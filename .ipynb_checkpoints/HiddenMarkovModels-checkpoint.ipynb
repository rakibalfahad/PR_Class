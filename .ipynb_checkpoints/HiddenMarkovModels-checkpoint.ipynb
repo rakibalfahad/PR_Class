{
 "cells": [
  {
   "cell_type": "markdown",
   "metadata": {},
   "source": [
    "## Introduction to Hidden Markov Models with Python Networkx and Sklearn\n",
    "\n",
    "\n",
    "<br>Author: Rakib Al-Fahad \n",
    "<br>Phd Candidate \n",
    "<br>The University of Memphis \n",
    "<br>Memphis, Tennessee \n",
    "<br>email: ralfahad@memphis.edu \n",
    "https://rakibalfahad.github.io/\n",
    "\n",
    "\n",
    "### Ref:\n",
    "http://www.blackarbs.com/blog/introduction-hidden-markov-models-python-networkx-sklearn/2/9/2017"
   ]
  },
  {
   "cell_type": "code",
   "execution_count": null,
   "metadata": {},
   "outputs": [],
   "source": []
  }
 ],
 "metadata": {
  "kernelspec": {
   "display_name": "Python 2",
   "language": "python",
   "name": "python2"
  },
  "language_info": {
   "codemirror_mode": {
    "name": "ipython",
    "version": 2
   },
   "file_extension": ".py",
   "mimetype": "text/x-python",
   "name": "python",
   "nbconvert_exporter": "python",
   "pygments_lexer": "ipython2",
   "version": "2.7.15"
  }
 },
 "nbformat": 4,
 "nbformat_minor": 2
}
