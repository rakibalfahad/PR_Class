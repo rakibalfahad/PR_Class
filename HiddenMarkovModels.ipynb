{
 "cells": [
  {
   "cell_type": "markdown",
   "metadata": {},
   "source": [
    "## Introduction to Hidden Markov Models with Python Networkx and Sklearn\n",
    "\n",
    "\n",
    "<br>Author: Rakib Al-Fahad \n",
    "<br>Phd Candidate \n",
    "<br>The University of Memphis \n",
    "<br>Memphis, Tennessee \n",
    "<br>email: ralfahad@memphis.edu \n",
    "https://rakibalfahad.github.io/\n",
    "\n",
    "\n",
    "### Ref:\n",
    "http://www.blackarbs.com/blog/introduction-hidden-markov-models-python-networkx-sklearn/2/9/2017"
   ]
  },
  {
   "cell_type": "markdown",
   "metadata": {},
   "source": [
    "## What is the Markov Property?\n",
    "\n",
    "\"...a random process where the future is independent of the past given the present.\"\n",
    "\n",
    "\n",
    "Assume a simplified coin toss game with a fair coin. Suspend disbelief and assume that the Markov property is not yet known and we would like to predict the probability of flipping heads after 10 flips. Under the assumption of conditional dependence (the coin has memory of past states and the future state depends on the sequence of past states) we must record the specific sequence that lead up to the 11th flip and the joint probabilities of those flips. So imagine after 10 flips we have a random sequence of heads and tails. The joint probability of that sequence is 0.5^10 = 0.0009765625. Under conditional dependence, the probability of heads on the next flip is 0.0009765625 * 0.5 = 0.00048828125. \n",
    "\n",
    "Is that the real probability of flipping heads on the 11th flip? Hell no!\n",
    "\n",
    "We know that the event of flipping the coin does not depend on the result of the flip before it. The coin has no memory. The process of successive flips does not encode the prior results. Each flip is a unique event with equal probability of heads or tails, aka conditionally independent of past states. This is the Markov property.  "
   ]
  },
  {
   "cell_type": "markdown",
   "metadata": {},
   "source": [
    "## What is a Markov Model?\n",
    "\n",
    "A Markov chain (model) describes a stochastic process where the assumed probability of future state(s) depends only on the current process state and not on any the states that preceded it (shocker).\n",
    "\n",
    "Let's get into a simple example. Assume you want to model the future probability that your dog is in one of three states given its current state. To do this <font color='red'>we need to specify the state space, the initial probabilities, and the transition probabilities.</font>\n",
    "\n",
    "Imagine you have a very lazy fat dog, so we **define the state space as sleeping, eating, or pooping. We will set the initial probabilities to 35%, 35%, and 30% respectively.**"
   ]
  },
  {
   "cell_type": "code",
   "execution_count": 1,
   "metadata": {},
   "outputs": [
    {
     "name": "stdout",
     "output_type": "stream",
     "text": [
      "2018-11-13T14:49:52\n",
      "\n",
      "CPython 2.7.15\n",
      "IPython 5.8.0\n",
      "\n",
      "compiler   : GCC 7.2.0\n",
      "system     : Linux\n",
      "release    : 4.15.0-38-generic\n",
      "machine    : x86_64\n",
      "processor  : x86_64\n",
      "CPU cores  : 24\n",
      "interpreter: 64bit\n"
     ]
    }
   ],
   "source": [
    "## PC config\n",
    "\n",
    "%load_ext watermark\n",
    "%watermark"
   ]
  },
  {
   "cell_type": "code",
   "execution_count": 2,
   "metadata": {},
   "outputs": [
    {
     "name": "stdout",
     "output_type": "stream",
     "text": [
      "sleeping    0.35\n",
      "eating      0.35\n",
      "pooping     0.30\n",
      "Name: states, dtype: float64\n",
      "1.0\n"
     ]
    }
   ],
   "source": [
    "import numpy as np\n",
    "import pandas as pd\n",
    "import networkx as nx\n",
    "import matplotlib.pyplot as plt\n",
    "%matplotlib inline\n",
    "\n",
    "# create state space and initial state probabilities\n",
    "\n",
    "states = ['sleeping', 'eating', 'pooping']\n",
    "pi = [0.35, 0.35, 0.3]\n",
    "state_space = pd.Series(pi, index=states, name='states')\n",
    "print(state_space)\n",
    "print(state_space.sum())"
   ]
  },
  {
   "cell_type": "markdown",
   "metadata": {},
   "source": [
    "The next step is to **define the transition probabilities**. They are simply the probabilities of staying in the same state or moving to a different state given the current state. "
   ]
  },
  {
   "cell_type": "code",
   "execution_count": 3,
   "metadata": {},
   "outputs": [
    {
     "name": "stdout",
     "output_type": "stream",
     "text": [
      "('\\n', array([[0.4, 0.2, 0.4],\n",
      "       [0.45, 0.45, 0.1],\n",
      "       [0.45, 0.25, 0.3]], dtype=object), (3, 3), '\\n')\n",
      "sleeping    1.0\n",
      "eating      1.0\n",
      "pooping     1.0\n",
      "dtype: float64\n"
     ]
    },
    {
     "data": {
      "text/html": [
       "<div>\n",
       "<style scoped>\n",
       "    .dataframe tbody tr th:only-of-type {\n",
       "        vertical-align: middle;\n",
       "    }\n",
       "\n",
       "    .dataframe tbody tr th {\n",
       "        vertical-align: top;\n",
       "    }\n",
       "\n",
       "    .dataframe thead th {\n",
       "        text-align: right;\n",
       "    }\n",
       "</style>\n",
       "<table border=\"1\" class=\"dataframe\">\n",
       "  <thead>\n",
       "    <tr style=\"text-align: right;\">\n",
       "      <th></th>\n",
       "      <th>sleeping</th>\n",
       "      <th>eating</th>\n",
       "      <th>pooping</th>\n",
       "    </tr>\n",
       "  </thead>\n",
       "  <tbody>\n",
       "    <tr>\n",
       "      <th>sleeping</th>\n",
       "      <td>0.4</td>\n",
       "      <td>0.2</td>\n",
       "      <td>0.4</td>\n",
       "    </tr>\n",
       "    <tr>\n",
       "      <th>eating</th>\n",
       "      <td>0.45</td>\n",
       "      <td>0.45</td>\n",
       "      <td>0.1</td>\n",
       "    </tr>\n",
       "    <tr>\n",
       "      <th>pooping</th>\n",
       "      <td>0.45</td>\n",
       "      <td>0.25</td>\n",
       "      <td>0.3</td>\n",
       "    </tr>\n",
       "  </tbody>\n",
       "</table>\n",
       "</div>"
      ],
      "text/plain": [
       "         sleeping eating pooping\n",
       "sleeping      0.4    0.2     0.4\n",
       "eating       0.45   0.45     0.1\n",
       "pooping      0.45   0.25     0.3"
      ]
     },
     "execution_count": 3,
     "metadata": {},
     "output_type": "execute_result"
    }
   ],
   "source": [
    "# create transition matrix\n",
    "# equals transition probability matrix of changing states given a state\n",
    "# matrix is size (M x M) where M is number of states\n",
    "\n",
    "q_df = pd.DataFrame(columns=states, index=states)\n",
    "q_df.loc[states[0]] = [0.4, 0.2, 0.4]\n",
    "q_df.loc[states[1]] = [0.45, 0.45, 0.1]\n",
    "q_df.loc[states[2]] = [0.45, 0.25, .3]\n",
    "\n",
    "q = q_df.values\n",
    "print('\\n', q, q.shape, '\\n')\n",
    "print(q_df.sum(axis=1))\n",
    "\n",
    "q_df"
   ]
  },
  {
   "cell_type": "markdown",
   "metadata": {},
   "source": [
    "Now that we have the initial and transition probabilities setup we can create a **Markov diagram using the Networkx package.**\n",
    "\n",
    "To do this requires a little bit of flexible thinking. Networkx creates Graphs that consist of nodes and edges. In our toy example the dog's possible states are the nodes and the edges are the lines that connect the nodes. The transition probabilities are the weights. They represent the probability of transitioning to a state given the current state.\n",
    "\n",
    "Something to note is networkx deals primarily with dictionary objects. With that said, we need to create a dictionary object that holds our edges and their weights."
   ]
  },
  {
   "cell_type": "code",
   "execution_count": 4,
   "metadata": {},
   "outputs": [
    {
     "name": "stdout",
     "output_type": "stream",
     "text": [
      "{('eating', 'eating'): 0.45,\n",
      " ('eating', 'pooping'): 0.1,\n",
      " ('eating', 'sleeping'): 0.45,\n",
      " ('pooping', 'eating'): 0.25,\n",
      " ('pooping', 'pooping'): 0.3,\n",
      " ('pooping', 'sleeping'): 0.45,\n",
      " ('sleeping', 'eating'): 0.2,\n",
      " ('sleeping', 'pooping'): 0.4,\n",
      " ('sleeping', 'sleeping'): 0.4}\n"
     ]
    }
   ],
   "source": [
    "from pprint import pprint \n",
    "\n",
    "# create a function that maps transition probability dataframe \n",
    "# to markov edges and weights\n",
    "\n",
    "def _get_markov_edges(Q):\n",
    "    edges = {}\n",
    "    for col in Q.columns:\n",
    "        for idx in Q.index:\n",
    "            edges[(idx,col)] = Q.loc[idx,col]\n",
    "    return edges\n",
    "\n",
    "edges_wts = _get_markov_edges(q_df)\n",
    "pprint(edges_wts)"
   ]
  },
  {
   "cell_type": "markdown",
   "metadata": {},
   "source": [
    "## You will need pydot\n",
    "\n",
    "To install this package with conda run:\n",
    " \"conda install -c anaconda pydot\""
   ]
  },
  {
   "cell_type": "code",
   "execution_count": 5,
   "metadata": {},
   "outputs": [
    {
     "name": "stdout",
     "output_type": "stream",
     "text": [
      "OutMultiEdgeDataView([('eating', 'eating', {'weight': 0.45, 'label': 0.45}), ('eating', 'pooping', {'weight': 0.1, 'label': 0.1}), ('eating', 'sleeping', {'weight': 0.45, 'label': 0.45}), ('pooping', 'eating', {'weight': 0.25, 'label': 0.25}), ('pooping', 'pooping', {'weight': 0.3, 'label': 0.3}), ('pooping', 'sleeping', {'weight': 0.45, 'label': 0.45}), ('sleeping', 'eating', {'weight': 0.2, 'label': 0.2}), ('sleeping', 'pooping', {'weight': 0.4, 'label': 0.4}), ('sleeping', 'sleeping', {'weight': 0.4, 'label': 0.4})])\n"
     ]
    },
    {
     "data": {
      "text/html": [
       "<div>\n",
       "<style scoped>\n",
       "    .dataframe tbody tr th:only-of-type {\n",
       "        vertical-align: middle;\n",
       "    }\n",
       "\n",
       "    .dataframe tbody tr th {\n",
       "        vertical-align: top;\n",
       "    }\n",
       "\n",
       "    .dataframe thead th {\n",
       "        text-align: right;\n",
       "    }\n",
       "</style>\n",
       "<table border=\"1\" class=\"dataframe\">\n",
       "  <thead>\n",
       "    <tr style=\"text-align: right;\">\n",
       "      <th></th>\n",
       "      <th>sleeping</th>\n",
       "      <th>eating</th>\n",
       "      <th>pooping</th>\n",
       "    </tr>\n",
       "  </thead>\n",
       "  <tbody>\n",
       "    <tr>\n",
       "      <th>sleeping</th>\n",
       "      <td>0.4</td>\n",
       "      <td>0.2</td>\n",
       "      <td>0.4</td>\n",
       "    </tr>\n",
       "    <tr>\n",
       "      <th>eating</th>\n",
       "      <td>0.45</td>\n",
       "      <td>0.45</td>\n",
       "      <td>0.1</td>\n",
       "    </tr>\n",
       "    <tr>\n",
       "      <th>pooping</th>\n",
       "      <td>0.45</td>\n",
       "      <td>0.25</td>\n",
       "      <td>0.3</td>\n",
       "    </tr>\n",
       "  </tbody>\n",
       "</table>\n",
       "</div>"
      ],
      "text/plain": [
       "         sleeping eating pooping\n",
       "sleeping      0.4    0.2     0.4\n",
       "eating       0.45   0.45     0.1\n",
       "pooping      0.45   0.25     0.3"
      ]
     },
     "execution_count": 5,
     "metadata": {},
     "output_type": "execute_result"
    },
    {
     "data": {
      "image/png": "[encoded data removed]",
      "text/plain": [
       "<Figure size 432x288 with 1 Axes>"
      ]
     },
     "metadata": {
      "needs_background": "light"
     },
     "output_type": "display_data"
    }
   ],
   "source": [
    "# create graph object\n",
    "G = nx.MultiDiGraph()\n",
    "\n",
    "# nodes correspond to states\n",
    "G.add_nodes_from(states)\n",
    "#print(r'Nodes:\\n{G.nodes()}\\n')\n",
    "\n",
    "# edges represent transition probabilities\n",
    "for k, v in edges_wts.items():\n",
    "    tmp_origin, tmp_destination = k[0], k[1]\n",
    "    G.add_edge(tmp_origin, tmp_destination, weight=v, label=v)\n",
    "#print('Edges:')\n",
    "pprint(G.edges(data=True))    \n",
    "\n",
    "pos = nx.drawing.nx_pydot.graphviz_layout(G, prog='dot')\n",
    "nx.draw_networkx(G, pos)\n",
    "\n",
    "# create edge labels for jupyter plot but is not necessary\n",
    "edge_labels = {(n1,n2):d['label'] for n1,n2,d in G.edges(data=True)}\n",
    "nx.draw_networkx_edge_labels(G , pos, edge_labels=edge_labels)\n",
    "nx.drawing.nx_pydot.write_dot(G, 'pet_dog_markov.dot')\n",
    "\n",
    "q_df"
   ]
  },
  {
   "cell_type": "markdown",
   "metadata": {},
   "source": [
    "## Graphviz visualization"
   ]
  },
  {
   "cell_type": "code",
   "execution_count": 6,
   "metadata": {},
   "outputs": [
    {
     "data": {
      "image/svg+xml": [
       "<?xml version=\"1.0\" encoding=\"UTF-8\" standalone=\"no\"?>\n",
       "<!DOCTYPE svg PUBLIC \"-//W3C//DTD SVG 1.1//EN\"\n",
       " \"http://www.w3.org/Graphics/SVG/1.1/DTD/svg11.dtd\">\n",
       "<!-- Generated by graphviz version 2.40.1 (20161225.0304)\n",
       " -->\n",
       "<!-- Title: %3 Pages: 1 -->\n",
       "<svg width=\"188pt\" height=\"218pt\"\n",
       " viewBox=\"0.00 0.00 187.65 218.00\" xmlns=\"http://www.w3.org/2000/svg\" xmlns:xlink=\"http://www.w3.org/1999/xlink\">\n",
       "<g id=\"graph0\" class=\"graph\" transform=\"scale(1 1) rotate(0) translate(4 214)\">\n",
       "<title>%3</title>\n",
       "<polygon fill=\"#ffffff\" stroke=\"transparent\" points=\"-4,4 -4,-214 183.6465,-214 183.6465,4 -4,4\"/>\n",
       "<!-- eating -->\n",
       "<g id=\"node1\" class=\"node\">\n",
       "<title>eating</title>\n",
       "<ellipse fill=\"none\" stroke=\"#000000\" cx=\"64.6465\" cy=\"-192\" rx=\"32.4942\" ry=\"18\"/>\n",
       "<text text-anchor=\"middle\" x=\"64.6465\" y=\"-188.3\" font-family=\"Times,serif\" font-size=\"14.00\" fill=\"#000000\">eating</text>\n",
       "</g>\n",
       "<!-- eating&#45;&gt;eating -->\n",
       "<g id=\"edge1\" class=\"edge\">\n",
       "<title>eating&#45;&gt;eating</title>\n",
       "<path fill=\"none\" stroke=\"#000000\" d=\"M93.9591,-199.8361C105.5023,-200.2312 115.1436,-197.6191 115.1436,-192 115.1436,-188.1368 110.5866,-185.695 103.9874,-184.6745\"/>\n",
       "<polygon fill=\"#000000\" stroke=\"#000000\" points=\"104.1241,-181.177 93.9591,-184.1639 103.7681,-188.168 104.1241,-181.177\"/>\n",
       "<text text-anchor=\"middle\" x=\"127.6436\" y=\"-188.3\" font-family=\"Times,serif\" font-size=\"14.00\" fill=\"#000000\">0.45</text>\n",
       "</g>\n",
       "<!-- pooping -->\n",
       "<g id=\"node2\" class=\"node\">\n",
       "<title>pooping</title>\n",
       "<ellipse fill=\"none\" stroke=\"#000000\" cx=\"39.6465\" cy=\"-105\" rx=\"39.7935\" ry=\"18\"/>\n",
       "<text text-anchor=\"middle\" x=\"39.6465\" y=\"-101.3\" font-family=\"Times,serif\" font-size=\"14.00\" fill=\"#000000\">pooping</text>\n",
       "</g>\n",
       "<!-- eating&#45;&gt;pooping -->\n",
       "<g id=\"edge2\" class=\"edge\">\n",
       "<title>eating&#45;&gt;pooping</title>\n",
       "<path fill=\"none\" stroke=\"#000000\" d=\"M59.4665,-173.9735C56.0474,-162.0751 51.5001,-146.2508 47.6237,-132.7606\"/>\n",
       "<polygon fill=\"#000000\" stroke=\"#000000\" points=\"50.9456,-131.6478 44.8199,-123.0034 44.2179,-133.5811 50.9456,-131.6478\"/>\n",
       "<text text-anchor=\"middle\" x=\"62.6465\" y=\"-144.8\" font-family=\"Times,serif\" font-size=\"14.00\" fill=\"#000000\">0.1</text>\n",
       "</g>\n",
       "<!-- sleeping -->\n",
       "<g id=\"node3\" class=\"node\">\n",
       "<title>sleeping</title>\n",
       "<ellipse fill=\"none\" stroke=\"#000000\" cx=\"66.6465\" cy=\"-18\" rx=\"40.0939\" ry=\"18\"/>\n",
       "<text text-anchor=\"middle\" x=\"66.6465\" y=\"-14.3\" font-family=\"Times,serif\" font-size=\"14.00\" fill=\"#000000\">sleeping</text>\n",
       "</g>\n",
       "<!-- eating&#45;&gt;sleeping -->\n",
       "<g id=\"edge3\" class=\"edge\">\n",
       "<title>eating&#45;&gt;sleeping</title>\n",
       "<path fill=\"none\" stroke=\"#000000\" d=\"M84.9946,-177.7054C92.7191,-171.6161 101.1995,-164.0589 107.6465,-156 117.9529,-143.1168 120.7593,-139.0339 124.6465,-123 132.088,-92.3055 127.085,-78.8933 107.6465,-54 103.9117,-49.2171 99.4786,-44.5736 94.9306,-40.2992\"/>\n",
       "<polygon fill=\"#000000\" stroke=\"#000000\" points=\"97.0717,-37.5197 87.2711,-33.4949 92.4226,-42.753 97.0717,-37.5197\"/>\n",
       "<text text-anchor=\"middle\" x=\"141.1465\" y=\"-101.3\" font-family=\"Times,serif\" font-size=\"14.00\" fill=\"#000000\">0.45</text>\n",
       "</g>\n",
       "<!-- pooping&#45;&gt;eating -->\n",
       "<g id=\"edge4\" class=\"edge\">\n",
       "<title>pooping&#45;&gt;eating</title>\n",
       "<path fill=\"none\" stroke=\"#000000\" d=\"M60.4506,-120.4226C66.525,-126.1383 72.3993,-133.1606 75.6465,-141 78.7661,-148.5315 78.3327,-157.0708 76.4589,-164.9784\"/>\n",
       "<polygon fill=\"#000000\" stroke=\"#000000\" points=\"73.115,-163.9448 73.4741,-174.5336 79.7966,-166.032 73.115,-163.9448\"/>\n",
       "<text text-anchor=\"middle\" x=\"91.1465\" y=\"-144.8\" font-family=\"Times,serif\" font-size=\"14.00\" fill=\"#000000\">0.25</text>\n",
       "</g>\n",
       "<!-- pooping&#45;&gt;pooping -->\n",
       "<g id=\"edge5\" class=\"edge\">\n",
       "<title>pooping&#45;&gt;pooping</title>\n",
       "<path fill=\"none\" stroke=\"#000000\" d=\"M75.3936,-112.8745C87.5345,-112.9159 97.293,-110.291 97.293,-105 97.293,-101.2798 92.4685,-98.8776 85.3837,-97.7936\"/>\n",
       "<polygon fill=\"#000000\" stroke=\"#000000\" points=\"85.6049,-94.3007 75.3936,-97.1255 85.1377,-101.2851 85.6049,-94.3007\"/>\n",
       "<text text-anchor=\"middle\" x=\"106.293\" y=\"-101.3\" font-family=\"Times,serif\" font-size=\"14.00\" fill=\"#000000\">0.3</text>\n",
       "</g>\n",
       "<!-- pooping&#45;&gt;sleeping -->\n",
       "<g id=\"edge6\" class=\"edge\">\n",
       "<title>pooping&#45;&gt;sleeping</title>\n",
       "<path fill=\"none\" stroke=\"#000000\" d=\"M45.2409,-86.9735C48.9335,-75.0751 53.8445,-59.2508 58.0311,-45.7606\"/>\n",
       "<polygon fill=\"#000000\" stroke=\"#000000\" points=\"61.4379,-46.5914 61.0592,-36.0034 54.7524,-44.5166 61.4379,-46.5914\"/>\n",
       "<text text-anchor=\"middle\" x=\"68.1465\" y=\"-57.8\" font-family=\"Times,serif\" font-size=\"14.00\" fill=\"#000000\">0.45</text>\n",
       "</g>\n",
       "<!-- sleeping&#45;&gt;eating -->\n",
       "<g id=\"edge7\" class=\"edge\">\n",
       "<title>sleeping&#45;&gt;eating</title>\n",
       "<path fill=\"none\" stroke=\"#000000\" d=\"M93.6036,-31.6098C104.6481,-37.7577 117.25,-45.5399 127.6465,-54 153.5837,-75.1064 169.7048,-91.8099 157.6465,-123 147.8777,-148.2681 122.626,-166.0529 100.8974,-177.2315\"/>\n",
       "<polygon fill=\"#000000\" stroke=\"#000000\" points=\"99.3238,-174.1047 91.8563,-181.6204 102.3808,-180.402 99.3238,-174.1047\"/>\n",
       "<text text-anchor=\"middle\" x=\"170.6465\" y=\"-101.3\" font-family=\"Times,serif\" font-size=\"14.00\" fill=\"#000000\">0.2</text>\n",
       "</g>\n",
       "<!-- sleeping&#45;&gt;pooping -->\n",
       "<g id=\"edge8\" class=\"edge\">\n",
       "<title>sleeping&#45;&gt;pooping</title>\n",
       "<path fill=\"none\" stroke=\"#000000\" d=\"M78.4159,-35.4283C83.6723,-45.4877 87.6723,-58.2377 82.6465,-69 80.0602,-74.5384 76.1563,-79.5254 71.7366,-83.8984\"/>\n",
       "<polygon fill=\"#000000\" stroke=\"#000000\" points=\"69.2022,-81.464 63.9531,-90.6672 73.7957,-86.7461 69.2022,-81.464\"/>\n",
       "<text text-anchor=\"middle\" x=\"94.6465\" y=\"-57.8\" font-family=\"Times,serif\" font-size=\"14.00\" fill=\"#000000\">0.4</text>\n",
       "</g>\n",
       "<!-- sleeping&#45;&gt;sleeping -->\n",
       "<g id=\"edge9\" class=\"edge\">\n",
       "<title>sleeping&#45;&gt;sleeping</title>\n",
       "<path fill=\"none\" stroke=\"#000000\" d=\"M103.0817,-25.875C115.2268,-25.875 124.9429,-23.25 124.9429,-18 124.9429,-14.3086 120.1394,-11.9149 113.0656,-10.8191\"/>\n",
       "<polygon fill=\"#000000\" stroke=\"#000000\" points=\"113.3004,-7.327 103.0817,-10.125 112.8149,-14.3102 113.3004,-7.327\"/>\n",
       "<text text-anchor=\"middle\" x=\"133.9429\" y=\"-14.3\" font-family=\"Times,serif\" font-size=\"14.00\" fill=\"#000000\">0.4</text>\n",
       "</g>\n",
       "</g>\n",
       "</svg>\n"
      ],
      "text/plain": [
       "<graphviz.files.Source at 0x7f9a78587050>"
      ]
     },
     "execution_count": 6,
     "metadata": {},
     "output_type": "execute_result"
    }
   ],
   "source": [
    "import graphviz\n",
    "\n",
    "with open(\"pet_dog_markov.dot\") as f:\n",
    "    dot_graph = f.read()\n",
    "\n",
    "graphviz.Source(dot_graph)"
   ]
  },
  {
   "cell_type": "markdown",
   "metadata": {},
   "source": [
    "## What Makes a Markov Model Hidden?\n",
    "Consider a situation where your dog is acting strangely and **you wanted to model the probability that your dog's behavior is due to sickness or simply quirky behavior when otherwise healthy.**\n",
    "\n",
    "In this situation the true state of the dog is unknown, thus hidden from you. One way to model this is to assume that the dog has observable behaviors that represent the true, hidden state. Let's walk through an example.\n",
    "\n",
    "***First we create our state space - healthy or sick. We assume they are equiprobable.***  "
   ]
  },
  {
   "cell_type": "code",
   "execution_count": 7,
   "metadata": {},
   "outputs": [
    {
     "name": "stdout",
     "output_type": "stream",
     "text": [
      "healthy    0.5\n",
      "sick       0.5\n",
      "Name: states, dtype: float64\n",
      "1.0\n"
     ]
    }
   ],
   "source": [
    "# create state space and initial state probabilities\n",
    "\n",
    "hidden_states = ['healthy', 'sick']\n",
    "pi = [0.5, 0.5]\n",
    "state_space = pd.Series(pi, index=hidden_states, name='states')\n",
    "print(state_space)\n",
    "print(state_space.sum())"
   ]
  },
  {
   "cell_type": "markdown",
   "metadata": {},
   "source": [
    "## We create our transition matrix for the hidden states."
   ]
  },
  {
   "cell_type": "code",
   "execution_count": 8,
   "metadata": {},
   "outputs": [
    {
     "data": {
      "text/html": [
       "<div>\n",
       "<style scoped>\n",
       "    .dataframe tbody tr th:only-of-type {\n",
       "        vertical-align: middle;\n",
       "    }\n",
       "\n",
       "    .dataframe tbody tr th {\n",
       "        vertical-align: top;\n",
       "    }\n",
       "\n",
       "    .dataframe thead th {\n",
       "        text-align: right;\n",
       "    }\n",
       "</style>\n",
       "<table border=\"1\" class=\"dataframe\">\n",
       "  <thead>\n",
       "    <tr style=\"text-align: right;\">\n",
       "      <th></th>\n",
       "      <th>healthy</th>\n",
       "      <th>sick</th>\n",
       "    </tr>\n",
       "  </thead>\n",
       "  <tbody>\n",
       "    <tr>\n",
       "      <th>healthy</th>\n",
       "      <td>0.7</td>\n",
       "      <td>0.3</td>\n",
       "    </tr>\n",
       "    <tr>\n",
       "      <th>sick</th>\n",
       "      <td>0.4</td>\n",
       "      <td>0.6</td>\n",
       "    </tr>\n",
       "  </tbody>\n",
       "</table>\n",
       "</div>"
      ],
      "text/plain": [
       "        healthy sick\n",
       "healthy     0.7  0.3\n",
       "sick        0.4  0.6"
      ]
     },
     "execution_count": 8,
     "metadata": {},
     "output_type": "execute_result"
    }
   ],
   "source": [
    "# create hidden transition matrix\n",
    "# a or alpha \n",
    "#   = transition probability matrix of changing states given a state\n",
    "# matrix is size (M x M) where M is number of states\n",
    "\n",
    "a_df = pd.DataFrame(columns=hidden_states, index=hidden_states)\n",
    "a_df.loc[hidden_states[0]] = [0.7, 0.3]\n",
    "a_df.loc[hidden_states[1]] = [0.4, 0.6]\n",
    "\n",
    "a_df\n",
    "\n",
    "# a = a_df.values\n",
    "\n",
    "# print(a, a.shape, '\\n')\n",
    "# print(a_df.sum(axis=1))"
   ]
  },
  {
   "cell_type": "markdown",
   "metadata": {},
   "source": [
    "This is where it gets a little more interesting. Now we create the **emission or observation probability matrix. This matrix is size M x O where M is the number of hidden states and O is the number of possible observable states.** \n",
    "\n",
    "The emission matrix tells us the probability the dog is in one of the hidden states, given the current, observable state. \n",
    "\n",
    "Let's keep the same observable states from the previous example. The dog can be either sleeping, eating, or pooping. For now we make our best guess to fill in the probabilities. from mpl_finance import quotes_historical_yahoo"
   ]
  },
  {
   "cell_type": "code",
   "execution_count": 10,
   "metadata": {},
   "outputs": [
    {
     "data": {
      "text/html": [
       "<div>\n",
       "<style scoped>\n",
       "    .dataframe tbody tr th:only-of-type {\n",
       "        vertical-align: middle;\n",
       "    }\n",
       "\n",
       "    .dataframe tbody tr th {\n",
       "        vertical-align: top;\n",
       "    }\n",
       "\n",
       "    .dataframe thead th {\n",
       "        text-align: right;\n",
       "    }\n",
       "</style>\n",
       "<table border=\"1\" class=\"dataframe\">\n",
       "  <thead>\n",
       "    <tr style=\"text-align: right;\">\n",
       "      <th></th>\n",
       "      <th>sleeping</th>\n",
       "      <th>eating</th>\n",
       "      <th>pooping</th>\n",
       "    </tr>\n",
       "  </thead>\n",
       "  <tbody>\n",
       "    <tr>\n",
       "      <th>healthy</th>\n",
       "      <td>0.2</td>\n",
       "      <td>0.6</td>\n",
       "      <td>0.2</td>\n",
       "    </tr>\n",
       "    <tr>\n",
       "      <th>sick</th>\n",
       "      <td>0.4</td>\n",
       "      <td>0.1</td>\n",
       "      <td>0.5</td>\n",
       "    </tr>\n",
       "  </tbody>\n",
       "</table>\n",
       "</div>"
      ],
      "text/plain": [
       "        sleeping eating pooping\n",
       "healthy      0.2    0.6     0.2\n",
       "sick         0.4    0.1     0.5"
      ]
     },
     "execution_count": 10,
     "metadata": {},
     "output_type": "execute_result"
    }
   ],
   "source": [
    "# create matrix of observation (emission) probabilities\n",
    "# b or beta = observation probabilities given state\n",
    "# matrix is size (M x O) where M is number of states \n",
    "# and O is number of different possible observations\n",
    "\n",
    "observable_states = states\n",
    "\n",
    "b_df = pd.DataFrame(columns=observable_states, index=hidden_states)\n",
    "b_df.loc[hidden_states[0]] = [0.2, 0.6, 0.2]\n",
    "b_df.loc[hidden_states[1]] = [0.4, 0.1, 0.5]\n",
    "\n",
    "b_df\n"
   ]
  },
  {
   "cell_type": "markdown",
   "metadata": {},
   "source": [
    "Now we create the graph edges and the graph object. "
   ]
  },
  {
   "cell_type": "code",
   "execution_count": 11,
   "metadata": {},
   "outputs": [
    {
     "name": "stdout",
     "output_type": "stream",
     "text": [
      "{('healthy', 'healthy'): 0.7,\n",
      " ('healthy', 'sick'): 0.3,\n",
      " ('sick', 'healthy'): 0.4,\n",
      " ('sick', 'sick'): 0.6}\n",
      "{('healthy', 'eating'): 0.6,\n",
      " ('healthy', 'pooping'): 0.2,\n",
      " ('healthy', 'sleeping'): 0.2,\n",
      " ('sick', 'eating'): 0.1,\n",
      " ('sick', 'pooping'): 0.5,\n",
      " ('sick', 'sleeping'): 0.4}\n"
     ]
    }
   ],
   "source": [
    "# create graph edges and weights\n",
    "\n",
    "hide_edges_wts = _get_markov_edges(a_df)\n",
    "pprint(hide_edges_wts)\n",
    "\n",
    "emit_edges_wts = _get_markov_edges(b_df)\n",
    "pprint(emit_edges_wts)"
   ]
  },
  {
   "cell_type": "code",
   "execution_count": 13,
   "metadata": {},
   "outputs": [
    {
     "name": "stdout",
     "output_type": "stream",
     "text": [
      "OutMultiEdgeDataView([('healthy', 'healthy', {'weight': 0.7, 'label': 0.7}), ('healthy', 'eating', {'weight': 0.6, 'label': 0.6}), ('healthy', 'pooping', {'weight': 0.2, 'label': 0.2}), ('healthy', 'sick', {'weight': 0.3, 'label': 0.3}), ('healthy', 'sleeping', {'weight': 0.2, 'label': 0.2}), ('sick', 'healthy', {'weight': 0.4, 'label': 0.4}), ('sick', 'eating', {'weight': 0.1, 'label': 0.1}), ('sick', 'pooping', {'weight': 0.5, 'label': 0.5}), ('sick', 'sick', {'weight': 0.6, 'label': 0.6}), ('sick', 'sleeping', {'weight': 0.4, 'label': 0.4})])\n"
     ]
    },
    {
     "data": {
      "image/png": "[encoded data removed]",
      "text/plain": [
       "<Figure size 432x288 with 1 Axes>"
      ]
     },
     "metadata": {
      "needs_background": "light"
     },
     "output_type": "display_data"
    }
   ],
   "source": [
    "# create graph object\n",
    "G = nx.MultiDiGraph()\n",
    "\n",
    "# nodes correspond to states\n",
    "G.add_nodes_from(hidden_states)\n",
    "#print(f'Nodes:\\n{G.nodes()}\\n')\n",
    "\n",
    "# edges represent hidden probabilities\n",
    "for k, v in hide_edges_wts.items():\n",
    "    tmp_origin, tmp_destination = k[0], k[1]\n",
    "    G.add_edge(tmp_origin, tmp_destination, weight=v, label=v)\n",
    "\n",
    "# edges represent emission probabilities\n",
    "for k, v in emit_edges_wts.items():\n",
    "    tmp_origin, tmp_destination = k[0], k[1]\n",
    "    G.add_edge(tmp_origin, tmp_destination, weight=v, label=v)\n",
    "    \n",
    "#print(f'Edges:')\n",
    "pprint(G.edges(data=True))    \n",
    "\n",
    "pos = nx.drawing.nx_pydot.graphviz_layout(G, prog='neato')\n",
    "nx.draw_networkx(G, pos)\n",
    "\n",
    "# create edge labels for jupyter plot but is not necessary\n",
    "emit_edge_labels = {(n1,n2):d['label'] for n1,n2,d in G.edges(data=True)}\n",
    "nx.draw_networkx_edge_labels(G , pos, edge_labels=emit_edge_labels)\n",
    "nx.drawing.nx_pydot.write_dot(G, 'pet_dog_hidden_markov.dot')"
   ]
  },
  {
   "cell_type": "code",
   "execution_count": 14,
   "metadata": {},
   "outputs": [
    {
     "data": {
      "image/svg+xml": [
       "<?xml version=\"1.0\" encoding=\"UTF-8\" standalone=\"no\"?>\n",
       "<!DOCTYPE svg PUBLIC \"-//W3C//DTD SVG 1.1//EN\"\n",
       " \"http://www.w3.org/Graphics/SVG/1.1/DTD/svg11.dtd\">\n",
       "<!-- Generated by graphviz version 2.40.1 (20161225.0304)\n",
       " -->\n",
       "<!-- Title: %3 Pages: 1 -->\n",
       "<svg width=\"280pt\" height=\"218pt\"\n",
       " viewBox=\"0.00 0.00 280.50 218.00\" xmlns=\"http://www.w3.org/2000/svg\" xmlns:xlink=\"http://www.w3.org/1999/xlink\">\n",
       "<g id=\"graph0\" class=\"graph\" transform=\"scale(1 1) rotate(0) translate(4 214)\">\n",
       "<title>%3</title>\n",
       "<polygon fill=\"#ffffff\" stroke=\"transparent\" points=\"-4,4 -4,-214 276.4971,-214 276.4971,4 -4,4\"/>\n",
       "<!-- healthy -->\n",
       "<g id=\"node1\" class=\"node\">\n",
       "<title>healthy</title>\n",
       "<ellipse fill=\"none\" stroke=\"#000000\" cx=\"66.4971\" cy=\"-192\" rx=\"36.2938\" ry=\"18\"/>\n",
       "<text text-anchor=\"middle\" x=\"66.4971\" y=\"-188.3\" font-family=\"Times,serif\" font-size=\"14.00\" fill=\"#000000\">healthy</text>\n",
       "</g>\n",
       "<!-- healthy&#45;&gt;healthy -->\n",
       "<g id=\"edge1\" class=\"edge\">\n",
       "<title>healthy&#45;&gt;healthy</title>\n",
       "<path fill=\"none\" stroke=\"#000000\" d=\"M99.4262,-199.8673C111.2523,-200.0365 120.8939,-197.4141 120.8939,-192 120.8939,-188.2778 116.3367,-185.8751 109.6456,-184.7919\"/>\n",
       "<polygon fill=\"#000000\" stroke=\"#000000\" points=\"109.6308,-181.2838 99.4262,-184.1327 109.1801,-188.2693 109.6308,-181.2838\"/>\n",
       "<text text-anchor=\"middle\" x=\"129.8939\" y=\"-188.3\" font-family=\"Times,serif\" font-size=\"14.00\" fill=\"#000000\">0.7</text>\n",
       "</g>\n",
       "<!-- eating -->\n",
       "<g id=\"node2\" class=\"node\">\n",
       "<title>eating</title>\n",
       "<ellipse fill=\"none\" stroke=\"#000000\" cx=\"32.4971\" cy=\"-18\" rx=\"32.4942\" ry=\"18\"/>\n",
       "<text text-anchor=\"middle\" x=\"32.4971\" y=\"-14.3\" font-family=\"Times,serif\" font-size=\"14.00\" fill=\"#000000\">eating</text>\n",
       "</g>\n",
       "<!-- healthy&#45;&gt;eating -->\n",
       "<g id=\"edge2\" class=\"edge\">\n",
       "<title>healthy&#45;&gt;eating</title>\n",
       "<path fill=\"none\" stroke=\"#000000\" d=\"M62.9866,-174.0343C57.0567,-143.6874 45.0155,-82.0644 37.9694,-46.0052\"/>\n",
       "<polygon fill=\"#000000\" stroke=\"#000000\" points=\"41.3924,-45.2718 36.0395,-36.1286 34.5223,-46.6143 41.3924,-45.2718\"/>\n",
       "<text text-anchor=\"middle\" x=\"62.4971\" y=\"-101.3\" font-family=\"Times,serif\" font-size=\"14.00\" fill=\"#000000\">0.6</text>\n",
       "</g>\n",
       "<!-- pooping -->\n",
       "<g id=\"node3\" class=\"node\">\n",
       "<title>pooping</title>\n",
       "<ellipse fill=\"none\" stroke=\"#000000\" cx=\"232.4971\" cy=\"-18\" rx=\"39.7935\" ry=\"18\"/>\n",
       "<text text-anchor=\"middle\" x=\"232.4971\" y=\"-14.3\" font-family=\"Times,serif\" font-size=\"14.00\" fill=\"#000000\">pooping</text>\n",
       "</g>\n",
       "<!-- healthy&#45;&gt;pooping -->\n",
       "<g id=\"edge3\" class=\"edge\">\n",
       "<title>healthy&#45;&gt;pooping</title>\n",
       "<path fill=\"none\" stroke=\"#000000\" d=\"M99.5813,-184.2669C146.9319,-172.4288 230.1396,-148.491 246.4971,-123 261.3782,-99.8098 254.045,-67.7982 245.4027,-45.2344\"/>\n",
       "<polygon fill=\"#000000\" stroke=\"#000000\" points=\"248.5991,-43.8047 241.5478,-35.8971 242.1288,-46.476 248.5991,-43.8047\"/>\n",
       "<text text-anchor=\"middle\" x=\"263.4971\" y=\"-101.3\" font-family=\"Times,serif\" font-size=\"14.00\" fill=\"#000000\">0.2</text>\n",
       "</g>\n",
       "<!-- sick -->\n",
       "<g id=\"node4\" class=\"node\">\n",
       "<title>sick</title>\n",
       "<ellipse fill=\"none\" stroke=\"#000000\" cx=\"174.4971\" cy=\"-105\" rx=\"27\" ry=\"18\"/>\n",
       "<text text-anchor=\"middle\" x=\"174.4971\" y=\"-101.3\" font-family=\"Times,serif\" font-size=\"14.00\" fill=\"#000000\">sick</text>\n",
       "</g>\n",
       "<!-- healthy&#45;&gt;sick -->\n",
       "<g id=\"edge4\" class=\"edge\">\n",
       "<title>healthy&#45;&gt;sick</title>\n",
       "<path fill=\"none\" stroke=\"#000000\" d=\"M95.8038,-181.2647C109.7153,-175.2364 125.9898,-166.748 138.4971,-156 146.758,-148.9011 154.081,-139.516 159.9294,-130.7337\"/>\n",
       "<polygon fill=\"#000000\" stroke=\"#000000\" points=\"162.8989,-132.5863 165.2664,-122.2594 156.9757,-128.856 162.8989,-132.5863\"/>\n",
       "<text text-anchor=\"middle\" x=\"161.4971\" y=\"-144.8\" font-family=\"Times,serif\" font-size=\"14.00\" fill=\"#000000\">0.3</text>\n",
       "</g>\n",
       "<!-- sleeping -->\n",
       "<g id=\"node5\" class=\"node\">\n",
       "<title>sleeping</title>\n",
       "<ellipse fill=\"none\" stroke=\"#000000\" cx=\"134.4971\" cy=\"-18\" rx=\"40.0939\" ry=\"18\"/>\n",
       "<text text-anchor=\"middle\" x=\"134.4971\" y=\"-14.3\" font-family=\"Times,serif\" font-size=\"14.00\" fill=\"#000000\">sleeping</text>\n",
       "</g>\n",
       "<!-- healthy&#45;&gt;sleeping -->\n",
       "<g id=\"edge5\" class=\"edge\">\n",
       "<title>healthy&#45;&gt;sleeping</title>\n",
       "<path fill=\"none\" stroke=\"#000000\" d=\"M69.063,-173.976C74.1492,-138.9604 85.5325,-64.2623 91.4971,-54 94.5687,-48.7153 98.7198,-43.8575 103.2363,-39.5351\"/>\n",
       "<polygon fill=\"#000000\" stroke=\"#000000\" points=\"105.773,-41.969 111.056,-32.7853 101.1991,-36.67 105.773,-41.969\"/>\n",
       "<text text-anchor=\"middle\" x=\"92.4971\" y=\"-101.3\" font-family=\"Times,serif\" font-size=\"14.00\" fill=\"#000000\">0.2</text>\n",
       "</g>\n",
       "<!-- sick&#45;&gt;healthy -->\n",
       "<g id=\"edge6\" class=\"edge\">\n",
       "<title>sick&#45;&gt;healthy</title>\n",
       "<path fill=\"none\" stroke=\"#000000\" d=\"M153.2863,-116.5151C141.9329,-123.0787 127.9666,-131.8121 116.4971,-141 106.4675,-149.0345 96.3637,-158.9224 87.8898,-167.8463\"/>\n",
       "<polygon fill=\"#000000\" stroke=\"#000000\" points=\"85.1441,-165.6595 80.9053,-175.3694 90.2742,-170.4222 85.1441,-165.6595\"/>\n",
       "<text text-anchor=\"middle\" x=\"125.4971\" y=\"-144.8\" font-family=\"Times,serif\" font-size=\"14.00\" fill=\"#000000\">0.4</text>\n",
       "</g>\n",
       "<!-- sick&#45;&gt;eating -->\n",
       "<g id=\"edge7\" class=\"edge\">\n",
       "<title>sick&#45;&gt;eating</title>\n",
       "<path fill=\"none\" stroke=\"#000000\" d=\"M154.4532,-92.7195C130.688,-78.1592 90.8243,-53.7357 63.171,-36.7932\"/>\n",
       "<polygon fill=\"#000000\" stroke=\"#000000\" points=\"64.6573,-33.5991 54.3019,-31.3593 61.0003,-39.568 64.6573,-33.5991\"/>\n",
       "<text text-anchor=\"middle\" x=\"121.4971\" y=\"-57.8\" font-family=\"Times,serif\" font-size=\"14.00\" fill=\"#000000\">0.1</text>\n",
       "</g>\n",
       "<!-- sick&#45;&gt;pooping -->\n",
       "<g id=\"edge8\" class=\"edge\">\n",
       "<title>sick&#45;&gt;pooping</title>\n",
       "<path fill=\"none\" stroke=\"#000000\" d=\"M176.6925,-86.8899C178.591,-76.6032 182.091,-63.8532 188.4971,-54 191.9571,-48.6783 196.4555,-43.7584 201.2523,-39.3743\"/>\n",
       "<polygon fill=\"#000000\" stroke=\"#000000\" points=\"203.5098,-42.0491 208.9294,-32.9453 199.0155,-36.6824 203.5098,-42.0491\"/>\n",
       "<text text-anchor=\"middle\" x=\"197.4971\" y=\"-57.8\" font-family=\"Times,serif\" font-size=\"14.00\" fill=\"#000000\">0.5</text>\n",
       "</g>\n",
       "<!-- sick&#45;&gt;sick -->\n",
       "<g id=\"edge9\" class=\"edge\">\n",
       "<title>sick&#45;&gt;sick</title>\n",
       "<path fill=\"none\" stroke=\"#000000\" d=\"M199.0296,-112.752C210.0049,-113.4902 219.4971,-110.9063 219.4971,-105 219.4971,-101.0317 215.2122,-98.5632 209.0714,-97.5944\"/>\n",
       "<polygon fill=\"#000000\" stroke=\"#000000\" points=\"209.1443,-94.0949 199.0296,-97.248 208.903,-101.0908 209.1443,-94.0949\"/>\n",
       "<text text-anchor=\"middle\" x=\"228.4971\" y=\"-101.3\" font-family=\"Times,serif\" font-size=\"14.00\" fill=\"#000000\">0.6</text>\n",
       "</g>\n",
       "<!-- sick&#45;&gt;sleeping -->\n",
       "<g id=\"edge10\" class=\"edge\">\n",
       "<title>sick&#45;&gt;sleeping</title>\n",
       "<path fill=\"none\" stroke=\"#000000\" d=\"M160.6764,-89.3939C155.9238,-83.3624 150.9384,-76.1874 147.4971,-69 144.0789,-61.8609 141.4855,-53.7138 139.5501,-46.0582\"/>\n",
       "<polygon fill=\"#000000\" stroke=\"#000000\" points=\"142.9115,-45.0529 137.3031,-36.0643 136.082,-46.5885 142.9115,-45.0529\"/>\n",
       "<text text-anchor=\"middle\" x=\"156.4971\" y=\"-57.8\" font-family=\"Times,serif\" font-size=\"14.00\" fill=\"#000000\">0.4</text>\n",
       "</g>\n",
       "</g>\n",
       "</svg>\n"
      ],
      "text/plain": [
       "<graphviz.files.Source at 0x7f9a45b7d390>"
      ]
     },
     "execution_count": 14,
     "metadata": {},
     "output_type": "execute_result"
    }
   ],
   "source": [
    "\n",
    "with open(\"pet_dog_hidden_markov.dot\") as f:\n",
    "    dot_graph = f.read()\n",
    "\n",
    "graphviz.Source(dot_graph)"
   ]
  },
  {
   "cell_type": "markdown",
   "metadata": {},
   "source": [
    "The hidden Markov graph is a little more complex but the principles are the same. For example, you would expect that if your dog is eating there is a high probability that it is healthy (60%) and a very low probability that the dog is sick (10%).\n",
    "\n",
    "Now, what if you needed to discern the health of your dog over time given a sequence of observations?  "
   ]
  },
  {
   "cell_type": "code",
   "execution_count": 15,
   "metadata": {},
   "outputs": [
    {
     "name": "stdout",
     "output_type": "stream",
     "text": [
      "   Obs_code   Obs_seq\n",
      "0         1    eating\n",
      "1         1    eating\n",
      "2         2   pooping\n",
      "3         1    eating\n",
      "4         0  sleeping\n",
      "5         1    eating\n",
      "6         2   pooping\n",
      "7         1    eating\n",
      "8         0  sleeping\n",
      "9         2   pooping\n",
      "10        2   pooping\n",
      "11        0  sleeping\n",
      "12        1    eating\n",
      "13        0  sleeping\n",
      "14        1    eating\n"
     ]
    }
   ],
   "source": [
    "# observation sequence of dog's behaviors\n",
    "# observations are encoded numerically\n",
    "\n",
    "obs_map = {'sleeping':0, 'eating':1, 'pooping':2}\n",
    "obs = np.array([1,1,2,1,0,1,2,1,0,2,2,0,1,0,1])\n",
    "\n",
    "inv_obs_map = dict((v,k) for k, v in obs_map.items())\n",
    "obs_seq = [inv_obs_map[v] for v in list(obs)]\n",
    "\n",
    "print( pd.DataFrame(np.column_stack([obs, obs_seq]), \n",
    "                columns=['Obs_code', 'Obs_seq']) )"
   ]
  },
  {
   "cell_type": "markdown",
   "metadata": {},
   "source": [
    "Using the **Viterbi algorithm** we can identify the most likely sequence of hidden states given the sequence of observations.\n",
    "\n",
    "High level, the Viterbi algorithm increments over each time step, finding the maximum probability of any path that gets to state iat time t, that also has the correct observations for the sequence up to time t.\n",
    "\n",
    "The algorithm also keeps track of the state with the highest probability at each stage. At the end of the sequence, the algorithm will iterate backwards selecting the state that \"won\" each time step, and thus creating the most likely path, or likely sequence of hidden states that led to the sequence of observations."
   ]
  },
  {
   "cell_type": "code",
   "execution_count": 16,
   "metadata": {},
   "outputs": [
    {
     "ename": "NameError",
     "evalue": "name 'a' is not defined",
     "output_type": "error",
     "traceback": [
      "\u001b[0;31m---------------------------------------------------------------------------\u001b[0m",
      "\u001b[0;31mNameError\u001b[0m                                 Traceback (most recent call last)",
      "\u001b[0;32m<ipython-input-16-33c1eec2dd4e>\u001b[0m in \u001b[0;36m<module>\u001b[0;34m()\u001b[0m\n\u001b[1;32m     39\u001b[0m     \u001b[0;32mreturn\u001b[0m \u001b[0mpath\u001b[0m\u001b[0;34m,\u001b[0m \u001b[0mdelta\u001b[0m\u001b[0;34m,\u001b[0m \u001b[0mphi\u001b[0m\u001b[0;34m\u001b[0m\u001b[0m\n\u001b[1;32m     40\u001b[0m \u001b[0;34m\u001b[0m\u001b[0m\n\u001b[0;32m---> 41\u001b[0;31m \u001b[0mpath\u001b[0m\u001b[0;34m,\u001b[0m \u001b[0mdelta\u001b[0m\u001b[0;34m,\u001b[0m \u001b[0mphi\u001b[0m \u001b[0;34m=\u001b[0m \u001b[0mviterbi\u001b[0m\u001b[0;34m(\u001b[0m\u001b[0mpi\u001b[0m\u001b[0;34m,\u001b[0m \u001b[0ma\u001b[0m\u001b[0;34m,\u001b[0m \u001b[0mb\u001b[0m\u001b[0;34m,\u001b[0m \u001b[0mobs\u001b[0m\u001b[0;34m)\u001b[0m\u001b[0;34m\u001b[0m\u001b[0m\n\u001b[0m\u001b[1;32m     42\u001b[0m \u001b[0;32mprint\u001b[0m\u001b[0;34m(\u001b[0m\u001b[0;34m'\\nsingle best state path: \\n'\u001b[0m\u001b[0;34m,\u001b[0m \u001b[0mpath\u001b[0m\u001b[0;34m)\u001b[0m\u001b[0;34m\u001b[0m\u001b[0m\n\u001b[1;32m     43\u001b[0m \u001b[0;32mprint\u001b[0m\u001b[0;34m(\u001b[0m\u001b[0;34m'delta:\\n'\u001b[0m\u001b[0;34m,\u001b[0m \u001b[0mdelta\u001b[0m\u001b[0;34m)\u001b[0m\u001b[0;34m\u001b[0m\u001b[0m\n",
      "\u001b[0;31mNameError\u001b[0m: name 'a' is not defined"
     ]
    }
   ],
   "source": [
    "# define Viterbi algorithm for shortest path\n",
    "# code adapted from Stephen Marsland's, Machine Learning An Algorthmic Perspective, Vol. 2\n",
    "# https://github.com/alexsosn/MarslandMLAlgo/blob/master/Ch16/HMM.py\n",
    "\n",
    "def viterbi(pi, a, b, obs):\n",
    "    \n",
    "    nStates = np.shape(b)[0]\n",
    "    T = np.shape(obs)[0]\n",
    "    \n",
    "    # init blank path\n",
    "    path = np.zeros(T)\n",
    "    # delta --> highest probability of any path that reaches state i\n",
    "    delta = np.zeros((nStates, T))\n",
    "    # phi --> argmax by time step for each state\n",
    "    phi = np.zeros((nStates, T))\n",
    "    \n",
    "    # init delta and phi \n",
    "    delta[:, 0] = pi * b[:, obs[0]]\n",
    "    phi[:, 0] = 0\n",
    "\n",
    "    print('Start Walk Forward \\n')    \n",
    "    # the forward algorithm extension\n",
    "    for t in range(1, T):\n",
    "        for s in range(nStates):\n",
    "            delta[s, t] = np.max(delta[:, t-1] * a[:, s]) * b[s, obs[t]] \n",
    "            phi[s, t] = np.argmax(delta[:, t-1] * a[:, s])\n",
    "            print('s={s} and t={t}: phi[{s}, {t}] = {phi}'.format(s=s, t=t, phi=phi[s, t]))\n",
    "    \n",
    "    # find optimal path\n",
    "    print('-'*50)\n",
    "    print('Start Backtrace\\n')\n",
    "    path[T-1] = np.argmax(delta[:, T-1])\n",
    "    #p('init path\\n    t={} path[{}-1]={}\\n'.format(T-1, T, path[T-1]))\n",
    "    for t in range(T-2, -1, -1):\n",
    "        path[t] = phi[path[t+1], [t+1]]\n",
    "        #p(' '*4 + 't={t}, path[{t}+1]={path}, [{t}+1]={i}'.format(t=t, path=path[t+1], i=[t+1]))\n",
    "        print('path[{}] = {}'.format(t, path[t]))\n",
    "        \n",
    "    return path, delta, phi\n",
    "\n",
    "path, delta, phi = viterbi(pi, a, b, obs)\n",
    "print('\\nsingle best state path: \\n', path)\n",
    "print('delta:\\n', delta)\n",
    "print('phi:\\n', phi)"
   ]
  },
  {
   "cell_type": "code",
   "execution_count": 17,
   "metadata": {},
   "outputs": [
    {
     "ename": "ImportError",
     "evalue": "cannot import name hmm",
     "output_type": "error",
     "traceback": [
      "\u001b[0;31m---------------------------------------------------------------------------\u001b[0m",
      "\u001b[0;31mImportError\u001b[0m                               Traceback (most recent call last)",
      "\u001b[0;32m<ipython-input-17-97d333e1aa22>\u001b[0m in \u001b[0;36m<module>\u001b[0;34m()\u001b[0m\n\u001b[1;32m      1\u001b[0m \u001b[0;32mimport\u001b[0m \u001b[0mnumpy\u001b[0m \u001b[0;32mas\u001b[0m \u001b[0mnp\u001b[0m\u001b[0;34m\u001b[0m\u001b[0m\n\u001b[0;32m----> 2\u001b[0;31m \u001b[0;32mfrom\u001b[0m \u001b[0msklearn\u001b[0m \u001b[0;32mimport\u001b[0m \u001b[0mhmm\u001b[0m\u001b[0;34m\u001b[0m\u001b[0m\n\u001b[0m\u001b[1;32m      3\u001b[0m \u001b[0;34m\u001b[0m\u001b[0m\n\u001b[1;32m      4\u001b[0m \u001b[0mstartprob\u001b[0m \u001b[0;34m=\u001b[0m \u001b[0mnp\u001b[0m\u001b[0;34m.\u001b[0m\u001b[0marray\u001b[0m\u001b[0;34m(\u001b[0m\u001b[0;34m[\u001b[0m\u001b[0;36m0.6\u001b[0m\u001b[0;34m,\u001b[0m \u001b[0;36m0.3\u001b[0m\u001b[0;34m,\u001b[0m \u001b[0;36m0.1\u001b[0m\u001b[0;34m]\u001b[0m\u001b[0;34m)\u001b[0m\u001b[0;34m\u001b[0m\u001b[0m\n\u001b[1;32m      5\u001b[0m \u001b[0mtransmat\u001b[0m \u001b[0;34m=\u001b[0m \u001b[0mnp\u001b[0m\u001b[0;34m.\u001b[0m\u001b[0marray\u001b[0m\u001b[0;34m(\u001b[0m\u001b[0;34m[\u001b[0m\u001b[0;34m[\u001b[0m\u001b[0;36m0.7\u001b[0m\u001b[0;34m,\u001b[0m \u001b[0;36m0.2\u001b[0m\u001b[0;34m,\u001b[0m \u001b[0;36m0.1\u001b[0m\u001b[0;34m]\u001b[0m\u001b[0;34m,\u001b[0m \u001b[0;34m[\u001b[0m\u001b[0;36m0.3\u001b[0m\u001b[0;34m,\u001b[0m \u001b[0;36m0.5\u001b[0m\u001b[0;34m,\u001b[0m \u001b[0;36m0.2\u001b[0m\u001b[0;34m]\u001b[0m\u001b[0;34m,\u001b[0m \u001b[0;34m[\u001b[0m\u001b[0;36m0.3\u001b[0m\u001b[0;34m,\u001b[0m \u001b[0;36m0.3\u001b[0m\u001b[0;34m,\u001b[0m \u001b[0;36m0.4\u001b[0m\u001b[0;34m]\u001b[0m\u001b[0;34m]\u001b[0m\u001b[0;34m)\u001b[0m\u001b[0;34m\u001b[0m\u001b[0m\n",
      "\u001b[0;31mImportError\u001b[0m: cannot import name hmm"
     ]
    }
   ],
   "source": [
    "import numpy as np\n",
    "from sklearn import hmm\n",
    "\n",
    "startprob = np.array([0.6, 0.3, 0.1])\n",
    "transmat = np.array([[0.7, 0.2, 0.1], [0.3, 0.5, 0.2], [0.3, 0.3, 0.4]])\n",
    "#means = np.array([[0.0, 0.0], [3.0, -3.0], [5.0, 10.0]])\n",
    "#covars = np.tile(np.identity(2), (3, 1, 1))\n",
    "model = hmm.GaussianHMM(3, \"full\", startprob, transmat)\n",
    "model.means_ = means\n",
    "model.covars_ = covars\n",
    "X, Z = model.sample(100)"
   ]
  },
  {
   "cell_type": "code",
   "execution_count": null,
   "metadata": {},
   "outputs": [],
   "source": []
  }
 ],
 "metadata": {
  "kernelspec": {
   "display_name": "Python 2",
   "language": "python",
   "name": "python2"
  },
  "language_info": {
   "codemirror_mode": {
    "name": "ipython",
    "version": 2
   },
   "file_extension": ".py",
   "mimetype": "text/x-python",
   "name": "python",
   "nbconvert_exporter": "python",
   "pygments_lexer": "ipython2",
   "version": "2.7.15"
  }
 },
 "nbformat": 4,
 "nbformat_minor": 2
}
